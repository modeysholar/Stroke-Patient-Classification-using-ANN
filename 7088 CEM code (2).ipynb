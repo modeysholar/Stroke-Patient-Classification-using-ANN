{
 "cells": [
  {
   "cell_type": "code",
   "execution_count": null,
   "metadata": {
    "scrolled": false
   },
   "outputs": [],
   "source": [
    "#IMPORTING LIBARIES\n",
    "\n",
    "import pandas as pd\n",
    "import numpy as np\n",
    "import seaborn as sns\n",
    "import matplotlib.pyplot as plt\n",
    "from sklearn.preprocessing import LabelEncoder\n",
    "from sklearn.utils import resample\n",
    "import warnings\n",
    "warnings.filterwarnings('ignore')\n",
    "sns.set_style('darkgrid')"
   ]
  },
  {
   "cell_type": "code",
   "execution_count": null,
   "metadata": {},
   "outputs": [],
   "source": [
    "Dataset= pd.read_csv('healthcare-dataset-stroke-data.csv') #imports the dataset\n"
   ]
  },
  {
   "cell_type": "code",
   "execution_count": null,
   "metadata": {},
   "outputs": [],
   "source": [
    "#DATA VISUALIZATION\n",
    "\n",
    "Dataset.head()\n",
    "Dataset.describe() #shows the distribution of the dataset"
   ]
  },
  {
   "cell_type": "code",
   "execution_count": null,
   "metadata": {},
   "outputs": [],
   "source": [
    "Dataset.info() #shows the summary of the dataset"
   ]
  },
  {
   "cell_type": "code",
   "execution_count": null,
   "metadata": {},
   "outputs": [],
   "source": [
    "Dataset.isnull().sum()  #shows the number of null values in each column."
   ]
  },
  {
   "cell_type": "code",
   "execution_count": null,
   "metadata": {},
   "outputs": [],
   "source": [
    "Dataset.nunique() #shows the number of unique Categories for each column\n"
   ]
  },
  {
   "cell_type": "code",
   "execution_count": null,
   "metadata": {},
   "outputs": [],
   "source": [
    "# Performing some Exploratory Data Analysis (EDA)\n",
    "\n",
    "plt.figure(figsize=(10,5))\n",
    "stroke = Dataset.loc[Dataset['stroke']==1]\n",
    "sns.countplot(data=stroke,x='ever_married', palette=\"Set2\")\n",
    "plt.title(\"Stroke / Marital Status\")\n",
    "\n",
    "\n",
    "plt.figure(figsize=(10,5))\n",
    "stroke = Dataset.loc[Dataset['stroke']==1]\n",
    "sns.countplot(data=stroke,x='smoking_status', palette=\"Set2\")\n",
    "plt.title(\"Stroke / Smoking Habit\")\n",
    "\n",
    "plt.figure(figsize=(10,5))\n",
    "stroke = Dataset.loc[Dataset['stroke']==1]\n",
    "sns.countplot(data=stroke,x='work_type', palette=\"Set2\")\n",
    "plt.title(\"Stroke / Profession\")\n",
    "\n",
    "plt.figure(figsize=(10,5))\n",
    "stroke = Dataset.loc[Dataset['stroke']==1]\n",
    "sns.countplot(data=stroke,x='Residence_type', palette=\"Set2\")\n",
    "plt.title(\"Stroke / Residence Type\")\n",
    "\n",
    "plt.figure(figsize=(10,5))\n",
    "stroke = Dataset.loc[Dataset['stroke']==1]\n",
    "sns.countplot(data=stroke,x='hypertension', palette=\"Set2\")\n",
    "plt.title(\"Stroke / Hypertensive Patients\")\n",
    "\n",
    "plt.figure(figsize=(10,5))\n",
    "stroke = Dataset.loc[Dataset['stroke']==1]\n",
    "sns.countplot(data=stroke,x='heart_disease', palette=\"Set2\")\n",
    "plt.title(\"Stroke / Heart Disease\")\n",
    "\n",
    "\n",
    "\n",
    "\n"
   ]
  },
  {
   "cell_type": "code",
   "execution_count": null,
   "metadata": {},
   "outputs": [],
   "source": [
    "sns.countplot(data=Dataset, x= 'stroke', hue='gender', palette= \"Set2\")\n",
    "\n",
    "plt.xlabel(\"Stroke Distribution With Gender\")\n",
    "plt.ylabel(\"Count\")"
   ]
  },
  {
   "cell_type": "code",
   "execution_count": null,
   "metadata": {},
   "outputs": [],
   "source": [
    "sns.boxplot(x='age',data=Dataset , color = 'Red')\n"
   ]
  },
  {
   "cell_type": "code",
   "execution_count": null,
   "metadata": {},
   "outputs": [],
   "source": [
    "sns.boxplot(x='bmi',data=Dataset , color = 'Green')"
   ]
  },
  {
   "cell_type": "code",
   "execution_count": null,
   "metadata": {},
   "outputs": [],
   "source": [
    "sns.boxplot(x='avg_glucose_level',data=Dataset , color = 'Pink')"
   ]
  },
  {
   "cell_type": "code",
   "execution_count": null,
   "metadata": {},
   "outputs": [],
   "source": [
    "fig, axes = plt.subplots(nrows=2, ncols=2, figsize=(20, 15))\n",
    "\n",
    "Dataset.plot(kind=\"hist\", y=\"age\", bins=100, color=\"purple\", ax=axes[0][0])\n",
    "Dataset.plot(kind=\"hist\", y=\"bmi\", bins=100, color=\"red\", ax=axes[0][1])\n",
    "Dataset.plot(kind=\"hist\", y=\"avg_glucose_level\", bins=100, color=\"blue\", ax=axes[1][1])\n",
    "Dataset.plot(kind=\"hist\", y=\"heart_disease\", bins=5, color=\"orange\", ax=axes[1][0])\n",
    "\n",
    "plt.show()"
   ]
  },
  {
   "cell_type": "code",
   "execution_count": null,
   "metadata": {},
   "outputs": [],
   "source": [
    "fig, axes = plt.subplots(nrows=1, ncols=2, figsize=(20, 5))\n",
    "Dataset.plot(kind='scatter', x='age', y='avg_glucose_level', alpha=0.5, color='blue', ax=axes[0], title=\"Age vs. Avg_glucose_level\")\n",
    "Dataset.plot(kind='scatter', x='bmi', y='avg_glucose_level', alpha=0.5, color='green', ax=axes[1], title=\"Age vs. BMI\")\n",
    "plt.show()\n"
   ]
  },
  {
   "cell_type": "code",
   "execution_count": null,
   "metadata": {},
   "outputs": [],
   "source": [
    "# Removing some outliers in the BMI column\n",
    "median= Dataset.loc[Dataset['bmi']<75, 'bmi'].median()\n",
    "Dataset.loc[Dataset.bmi> 75, 'bmi'] = np.nan\n",
    "Dataset.fillna(median, inplace=True)\n",
    "\n",
    "Dataset.isnull().sum()\n",
    "\n"
   ]
  },
  {
   "cell_type": "code",
   "execution_count": null,
   "metadata": {},
   "outputs": [],
   "source": [
    "plt.figure(figsize=(8,8))\n",
    "sns.heatmap(Dataset.corr(), annot= True);"
   ]
  },
  {
   "cell_type": "code",
   "execution_count": null,
   "metadata": {},
   "outputs": [],
   "source": [
    "#DATA PRE-PROCESSING\n",
    "\n",
    "#Dropping Unnecessary Column such as ID\n",
    "\n",
    "Dataset = Dataset.drop('id', axis=1)\n",
    "Dataset.head()\n"
   ]
  },
  {
   "cell_type": "code",
   "execution_count": null,
   "metadata": {},
   "outputs": [],
   "source": [
    "#Label Encoding \n",
    "Dataset['ever_married'].unique()"
   ]
  },
  {
   "cell_type": "code",
   "execution_count": null,
   "metadata": {},
   "outputs": [],
   "source": [
    "Dataset['Residence_type'].unique()"
   ]
  },
  {
   "cell_type": "code",
   "execution_count": null,
   "metadata": {},
   "outputs": [],
   "source": [
    "Marital = {'No': 0, 'Yes': 1}\n",
    "Dataset['ever_married'] = Dataset['ever_married'].map(Marital)"
   ]
  },
  {
   "cell_type": "code",
   "execution_count": null,
   "metadata": {
    "scrolled": true
   },
   "outputs": [],
   "source": [
    "Residence = {'Urban':0, 'Rural':1}\n",
    "Dataset['Residence_type'] = Dataset['Residence_type'].map(Residence)\n",
    "Dataset.head()"
   ]
  },
  {
   "cell_type": "code",
   "execution_count": null,
   "metadata": {},
   "outputs": [],
   "source": [
    "Dataset['gender'].unique()"
   ]
  },
  {
   "cell_type": "code",
   "execution_count": null,
   "metadata": {},
   "outputs": [],
   "source": [
    "Dataset['work_type'].unique()"
   ]
  },
  {
   "cell_type": "code",
   "execution_count": null,
   "metadata": {},
   "outputs": [],
   "source": [
    "Dataset['smoking_status'].unique()"
   ]
  },
  {
   "cell_type": "code",
   "execution_count": null,
   "metadata": {},
   "outputs": [],
   "source": [
    "from sklearn.preprocessing import OneHotEncoder\n",
    "One_Hot= OneHotEncoder()"
   ]
  },
  {
   "cell_type": "code",
   "execution_count": null,
   "metadata": {},
   "outputs": [],
   "source": [
    "#OneHotEncode Column with Categorical Values\n",
    "\n",
    "Dataset['gender']= pd.Categorical(Dataset['gender'])\n",
    "Gender_Dummies= pd.get_dummies(Dataset['gender'], prefix= 'sub_gender')"
   ]
  },
  {
   "cell_type": "code",
   "execution_count": null,
   "metadata": {},
   "outputs": [],
   "source": [
    "Dataset['work_type']= pd.Categorical(Dataset['work_type'])\n",
    "Work_Dummies= pd.get_dummies(Dataset['work_type'], prefix= 'sub_work')"
   ]
  },
  {
   "cell_type": "code",
   "execution_count": null,
   "metadata": {},
   "outputs": [],
   "source": [
    "Dataset['smoking_status']= pd.Categorical(Dataset['smoking_status'])\n",
    "Smoking_Dummies= pd.get_dummies(Dataset['smoking_status'], prefix= 'sub_smoke')"
   ]
  },
  {
   "cell_type": "code",
   "execution_count": null,
   "metadata": {},
   "outputs": [],
   "source": [
    "#Drop The Previous Columns\n",
    "\n",
    "Dataset.drop(\"gender\", axis=1, inplace=True)\n",
    "Dataset.drop(\"work_type\", axis=1, inplace=True)\n",
    "Dataset.drop(\"smoking_status\", axis=1, inplace=True)\n"
   ]
  },
  {
   "cell_type": "code",
   "execution_count": null,
   "metadata": {},
   "outputs": [],
   "source": [
    "Dataset= pd.concat([Dataset, Gender_Dummies], axis=1)\n",
    "Dataset = pd.concat([Dataset, Work_Dummies], axis=1)\n",
    "Dataset = pd.concat([Dataset, Smoking_Dummies], axis=1)\n",
    "Dataset"
   ]
  },
  {
   "cell_type": "code",
   "execution_count": null,
   "metadata": {},
   "outputs": [],
   "source": [
    "#Deriving the inputs as X and output as Y \n",
    "\n",
    "X = Dataset.drop('stroke', axis=1)\n",
    "Y = Dataset['stroke']"
   ]
  },
  {
   "cell_type": "code",
   "execution_count": null,
   "metadata": {},
   "outputs": [],
   "source": [
    "# Removing Imbalances in data\n",
    "from imblearn.over_sampling import SMOTE\n",
    "sm = SMOTE(random_state=42)\n",
    "X,Y = sm.fit_resample(X,Y)"
   ]
  },
  {
   "cell_type": "code",
   "execution_count": null,
   "metadata": {},
   "outputs": [],
   "source": [
    "#Splitting data into train and test.\n",
    "\n",
    "from sklearn.model_selection import train_test_split\n",
    "X_train, X_test, y_train, y_test = train_test_split(X, Y, test_size=0.3, random_state= 42)\n"
   ]
  },
  {
   "cell_type": "code",
   "execution_count": null,
   "metadata": {},
   "outputs": [],
   "source": [
    "print('X_train:' , np.shape(X_train))\n",
    "print('y_train:' , np.shape(y_train))\n",
    "print('X_test:' , np.shape(X_test))\n",
    "print('y_test:' , np.shape(y_test))"
   ]
  },
  {
   "cell_type": "code",
   "execution_count": null,
   "metadata": {},
   "outputs": [],
   "source": [
    "#importing Keras\n",
    "import tensorflow as tf\n",
    "from tensorflow import keras\n",
    "from tensorflow.keras.models import Sequential   \n",
    "from tensorflow.keras.layers import Dense        "
   ]
  },
  {
   "cell_type": "code",
   "execution_count": null,
   "metadata": {},
   "outputs": [],
   "source": [
    "MLP_model = Sequential()"
   ]
  },
  {
   "cell_type": "code",
   "execution_count": null,
   "metadata": {},
   "outputs": [],
   "source": [
    "MLP_model.add(Dense(units = 20 , activation = 'relu', input_shape = (19,))) \n",
    "MLP_model.add(Dense(14, activation = 'relu'))\n",
    "MLP_model.add(Dense(8, activation = 'relu'))\n",
    "MLP_model.add(Dense(1, activation = 'sigmoid'))"
   ]
  },
  {
   "cell_type": "code",
   "execution_count": null,
   "metadata": {},
   "outputs": [],
   "source": [
    "sgd = keras.optimizers.SGD(lr=0.01, momentum=0.9, nesterov=True)\n",
    "MLP_model.compile(loss = 'binary_crossentropy', optimizer = 'sgd', metrics = ['accuracy'])"
   ]
  },
  {
   "cell_type": "code",
   "execution_count": null,
   "metadata": {},
   "outputs": [],
   "source": [
    "MLP_model.fit(X_train, y_train, epochs=20)\n"
   ]
  },
  {
   "cell_type": "code",
   "execution_count": null,
   "metadata": {},
   "outputs": [],
   "source": [
    "loss_and_metrics = MLP_model.evaluate(X_test, y_test)\n",
    "print('Loss = ',loss_and_metrics[0])\n",
    "print('Accuracy = ',loss_and_metrics[1])\n"
   ]
  },
  {
   "cell_type": "code",
   "execution_count": null,
   "metadata": {},
   "outputs": [],
   "source": [
    "pip install susi"
   ]
  },
  {
   "cell_type": "code",
   "execution_count": null,
   "metadata": {},
   "outputs": [],
   "source": [
    "#SOM MODEL\n",
    "\n",
    "import numpy as np\n",
    "import matplotlib.pyplot as plt\n",
    "from sklearn.model_selection import train_test_split\n",
    "from sklearn.preprocessing import StandardScaler\n",
    "\n",
    "import susi"
   ]
  },
  {
   "cell_type": "code",
   "execution_count": null,
   "metadata": {},
   "outputs": [],
   "source": [
    "from sklearn.datasets import make_classification\n",
    "\n",
    "### define ratios (between 0 and 1)\n",
    "n_features = 19\n",
    "\n",
    "from imblearn.over_sampling import SMOTE\n",
    "sm = SMOTE(random_state=42)\n",
    "X,Y = sm.fit_resample(X,Y)\n",
    "\n",
    "# split the data\n",
    "X_train, X_test, y_train, y_test = train_test_split(\n",
    "    X,Y, test_size=0.3, random_state=3, shuffle=True)\n",
    "\n",
    "# scale the data\n",
    "scaler = StandardScaler()\n",
    "X_train = scaler.fit_transform(X_train)\n",
    "X_test = scaler.transform(X_test)\n",
    "\n",
    "print(X_train.shape, X_test.shape)"
   ]
  },
  {
   "cell_type": "code",
   "execution_count": null,
   "metadata": {},
   "outputs": [],
   "source": [
    "som = susi.SOMClassifier(\n",
    "    n_rows=60,\n",
    "    n_columns=60,\n",
    "    n_iter_unsupervised=1000,\n",
    "    n_iter_supervised=1000,\n",
    "    random_state=3)\n",
    "som.fit(X_train, y_train)\n",
    "y_pred = som.predict(X_test)\n",
    "print(\"Accuracy: {0:.1f} %\".format(som.score(X_test, y_test)*100))"
   ]
  },
  {
   "cell_type": "code",
   "execution_count": null,
   "metadata": {},
   "outputs": [],
   "source": []
  },
  {
   "cell_type": "code",
   "execution_count": null,
   "metadata": {},
   "outputs": [],
   "source": []
  }
 ],
 "metadata": {
  "kernelspec": {
   "display_name": "Python 3",
   "language": "python",
   "name": "python3"
  },
  "language_info": {
   "codemirror_mode": {
    "name": "ipython",
    "version": 3
   },
   "file_extension": ".py",
   "mimetype": "text/x-python",
   "name": "python",
   "nbconvert_exporter": "python",
   "pygments_lexer": "ipython3",
   "version": "3.8.5"
  }
 },
 "nbformat": 4,
 "nbformat_minor": 4
}
